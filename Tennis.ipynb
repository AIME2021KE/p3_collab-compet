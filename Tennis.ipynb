{
 "cells": [
  {
   "cell_type": "markdown",
   "metadata": {},
   "source": [
    "# Collaboration and Competition\n",
    "\n",
    "---\n",
    "\n",
    "You are welcome to use this coding environment to train your agent for the project.  Follow the instructions below to get started!\n",
    "\n",
    "### 1. Start the Environment\n",
    "\n",
    "Run the next code cell to install a few packages.  This line will take a few minutes to run!"
   ]
  },
  {
   "cell_type": "markdown",
   "metadata": {},
   "source": [
    "### NOTE: need to run it in Unity environment each time"
   ]
  },
  {
   "cell_type": "code",
   "execution_count": 1,
   "metadata": {},
   "outputs": [
    {
     "name": "stdout",
     "output_type": "stream",
     "text": [
      "\u001b[31mtensorflow 1.7.1 has requirement numpy>=1.13.3, but you'll have numpy 1.12.1 which is incompatible.\u001b[0m\r\n",
      "\u001b[31mipython 6.5.0 has requirement prompt-toolkit<2.0.0,>=1.0.15, but you'll have prompt-toolkit 3.0.29 which is incompatible.\u001b[0m\r\n",
      "\u001b[31mjupyter-console 6.4.3 has requirement jupyter-client>=7.0.0, but you'll have jupyter-client 5.2.4 which is incompatible.\u001b[0m\r\n"
     ]
    }
   ],
   "source": [
    "!pip -q install ./python"
   ]
  },
  {
   "cell_type": "markdown",
   "metadata": {},
   "source": [
    "The environment is already saved in the Workspace and can be accessed at the file path provided below. "
   ]
  },
  {
   "cell_type": "code",
   "execution_count": 2,
   "metadata": {},
   "outputs": [
    {
     "name": "stderr",
     "output_type": "stream",
     "text": [
      "INFO:unityagents:\n",
      "'Academy' started successfully!\n",
      "Unity Academy name: Academy\n",
      "        Number of Brains: 1\n",
      "        Number of External Brains : 1\n",
      "        Lesson number : 0\n",
      "        Reset Parameters :\n",
      "\t\t\n",
      "Unity brain name: TennisBrain\n",
      "        Number of Visual Observations (per agent): 0\n",
      "        Vector Observation space type: continuous\n",
      "        Vector Observation space size (per agent): 8\n",
      "        Number of stacked Vector Observation: 3\n",
      "        Vector Action space type: continuous\n",
      "        Vector Action space size (per agent): 2\n",
      "        Vector Action descriptions: , \n"
     ]
    }
   ],
   "source": [
    "from unityagents import UnityEnvironment\n",
    "import numpy as np\n",
    "\n",
    "env = UnityEnvironment(file_name=\"/data/Tennis_Linux_NoVis/Tennis\")"
   ]
  },
  {
   "cell_type": "markdown",
   "metadata": {},
   "source": [
    "Environments contain **_brains_** which are responsible for deciding the actions of their associated agents. Here we check for the first brain available, and set it as the default brain we will be controlling from Python."
   ]
  },
  {
   "cell_type": "code",
   "execution_count": 3,
   "metadata": {},
   "outputs": [],
   "source": [
    "# get the default brain\n",
    "brain_name = env.brain_names[0]\n",
    "brain = env.brains[brain_name]"
   ]
  },
  {
   "cell_type": "markdown",
   "metadata": {},
   "source": [
    "### 2. Examine the State and Action Spaces\n",
    "\n",
    "Run the code cell below to print some information about the environment."
   ]
  },
  {
   "cell_type": "code",
   "execution_count": 4,
   "metadata": {},
   "outputs": [
    {
     "name": "stdout",
     "output_type": "stream",
     "text": [
      "Number of agents: 2\n",
      "Size of each action: 2\n",
      "There are 2 agents. Each observes a state with length: 24\n",
      "The state for the first agent looks like: [ 0.          0.          0.          0.          0.          0.          0.\n",
      "  0.          0.          0.          0.          0.          0.          0.\n",
      "  0.          0.         -6.65278625 -1.5        -0.          0.\n",
      "  6.83172083  6.         -0.          0.        ]\n"
     ]
    }
   ],
   "source": [
    "# reset the environment\n",
    "env_info = env.reset(train_mode=True)[brain_name]\n",
    "\n",
    "# number of agents \n",
    "num_agents = len(env_info.agents)\n",
    "print('Number of agents:', num_agents)\n",
    "\n",
    "# size of each action\n",
    "action_size = brain.vector_action_space_size\n",
    "print('Size of each action:', action_size)\n",
    "\n",
    "# examine the state space \n",
    "states = env_info.vector_observations\n",
    "state_size = states.shape[1]\n",
    "print('There are {} agents. Each observes a state with length: {}'.format(states.shape[0], state_size))\n",
    "print('The state for the first agent looks like:', states[0])"
   ]
  },
  {
   "cell_type": "markdown",
   "metadata": {},
   "source": [
    "### 4. It's Your Turn!\n",
    "\n",
    "Now it's your turn to train your own agent to solve the environment!  A few **important notes**:\n",
    "- When training the environment, set `train_mode=True`, so that the line for resetting the environment looks like the following:\n",
    "```python\n",
    "env_info = env.reset(train_mode=True)[brain_name]\n",
    "```\n",
    "- To structure your work, you're welcome to work directly in this Jupyter notebook, or you might like to start over with a new file!  You can see the list of files in the workspace by clicking on **_Jupyter_** in the top left corner of the notebook.\n",
    "- In this coding environment, you will not be able to watch the agents while they are training.  However, **_after training the agents_**, you can download the saved model weights to watch the agents on your own machine! "
   ]
  },
  {
   "cell_type": "markdown",
   "metadata": {},
   "source": [
    "## 4.1 Description of provided files\n",
    "Despite having difficulties with the MADDPG running with the visual display and not a clear idea of what was \"good\" in terms of reward score, we've started with that set of code and files but putting the main.py 2 initial functions in the utilities.py file and taking the code of the main function out of the function and just provided inline below"
   ]
  },
  {
   "cell_type": "markdown",
   "metadata": {},
   "source": [
    "### Basic structure, operations\n",
    "We use a slightly modified MADDPG class that we had from the MADDPG mini-project, except now we change it to only have two interacting agents and to use separate Critic and Actor classes from the original Agent class now renamed DDPGAgent used in project 2 with some modifications. We also allow the state size and action sizes to be passed in to MADDPG along with some parameters we found useful in the past to modify during training tests. DDPGAgent in turn uses the Actor, Critic classes (along with ReplayBuffer and OUNoise helper classes) to define the details of the actor and critic local and target networks.\n",
    "\n"
   ]
  },
  {
   "cell_type": "markdown",
   "metadata": {},
   "source": [
    "#### 4.1.1 First provide packages for this section for our solution"
   ]
  },
  {
   "cell_type": "code",
   "execution_count": 5,
   "metadata": {},
   "outputs": [],
   "source": [
    "# KAE 4/10/2022:  this script modified from the main.py from the MADDPG mini-project\n",
    "# \n",
    "# here we have only 2 agents intead of 3 and both are cooperating\n",
    "#\n",
    "# we also don't anticipate needing images to save gifs, etc or log directories\n",
    "# we may need a keep_awake however.... since couldn't get it running locally\n",
    "#\n",
    "# main function that sets up environments\n",
    "# perform training loop\n",
    "\n",
    "from replaybuffer import ReplayBuffer\n",
    "from maddpg import MADDPG\n",
    "import torch\n",
    "import numpy as np\n",
    "from utilities import transpose_list, transpose_to_tensor, seeding, pre_process\n",
    "\n",
    "# keep training awake\n",
    "from workspace_utils import keep_awake\n",
    "\n",
    "from collections import namedtuple, deque\n",
    "import datetime"
   ]
  },
  {
   "cell_type": "markdown",
   "metadata": {},
   "source": [
    "#### 4.1.2 Next initial various parameters for this run..."
   ]
  },
  {
   "cell_type": "code",
   "execution_count": 6,
   "metadata": {},
   "outputs": [
    {
     "name": "stdout",
     "output_type": "stream",
     "text": [
      "Actor BatchNorm1d on, init....\n",
      "Actor BatchNorm1d on, init....\n",
      "Critic BatchNorm1d on, init....\n",
      "Critic BatchNorm1d on, init....\n",
      "DDPG Agent.init, BUFFER_SIZE: 100000\n",
      "DDPG Agent.init, BATCH_SIZE: 16\n",
      "DDPG Agent.init, WEIGHT_DECAY: 0\n",
      "DDPG Agent.init, UPDATE_EVERY: 5\n",
      "DDPG Agent.init, TIMES_UPDATE: 1\n",
      "OUNoise.reset, mu, sigma, theta, len: [ 0.  0.] 0.2 0.15 2\n",
      "Actor BatchNorm1d on, init....\n",
      "Actor BatchNorm1d on, init....\n",
      "Critic BatchNorm1d on, init....\n",
      "Critic BatchNorm1d on, init....\n",
      "DDPG Agent.init, BUFFER_SIZE: 100000\n",
      "DDPG Agent.init, BATCH_SIZE: 16\n",
      "DDPG Agent.init, WEIGHT_DECAY: 0\n",
      "DDPG Agent.init, UPDATE_EVERY: 5\n",
      "DDPG Agent.init, TIMES_UPDATE: 1\n",
      "OUNoise.reset, mu, sigma, theta, len: [ 0.  0.] 0.2 0.15 2\n"
     ]
    }
   ],
   "source": [
    "# amplitude of OU noise\n",
    "# this slowly decreases to 0\n",
    "#noise = 2\n",
    "#noise_reduction = 0.9999\n",
    "\n",
    "# initialize policy and critic\n",
    "#state_size\n",
    "#action_size\n",
    "random_seed = 123456765\n",
    "#lr_actor=1.0e-3\n",
    "#lr_critic=1.0e-2\n",
    "lr_actor=1.0e-4\n",
    "lr_critic=1.0e-3 # typically want critic learning higher than actor\n",
    "#lr_actor=1.0e-5\n",
    "#lr_critic=1.0e-4 # typically want critic learning higher than actor\n",
    "#lr_actor=3.0e-4\n",
    "#lr_critic=3.0e-3 # typically want critic learning higher than actor\n",
    "# KAE 4/13/2022: tried ranges in tau from 3e-2 to 1e-3 in 3x intervals for gamma 0.8, tau=1e-2 appeared best..\n",
    "#tau=1.0e-3\n",
    "tau=1.0e-2 # softmax mixing\n",
    "#tau=3.0e-2\n",
    "# KAE 4/13/2022: tried ranges in gamma from 0.5 to 0.99; 0.8 gamma with tau=1e-2 appeared best..\n",
    "gamma=0.8 # learning combination of Q's\n",
    "discount_factor=1.0 # reward discounting\n",
    "maddpg = MADDPG(state_size, action_size, random_seed, \\\n",
    "                lr_actor=lr_actor, lr_critic=lr_critic, tau=tau, \\\n",
    "                gamma=gamma, discount_factor=discount_factor)"
   ]
  },
  {
   "cell_type": "code",
   "execution_count": 7,
   "metadata": {},
   "outputs": [],
   "source": [
    "#maddpg.set_noise(0.1, 0.9999, True)\n",
    "#maddpg.set_snoise(0.1, 0.9999, True)"
   ]
  },
  {
   "cell_type": "code",
   "execution_count": 8,
   "metadata": {},
   "outputs": [],
   "source": [
    "# Initialize random number generator, now in utils, provides randome numbers \n",
    "#  seeds to numpy and torch\n",
    "seeding()\n",
    "\n",
    "# number of training episodes.\n",
    "# change this to higher number to experiment. say 30000.\n",
    "#number_of_episodes = 30000\n",
    "# initially start with a low value for checking things out, especially since \n",
    "#  can't see anything \n",
    "number_of_episodes = 150\n",
    "#number_of_episodes = 600\n",
    "#number_of_episodes = 1000\n",
    "#episode_length = 80\n",
    "max_episode_length = 1000\n",
    "\n",
    "# how many episodes to save policy and output\n",
    "#save_interval = 1000\n",
    "save_interval = 50\n",
    "\n",
    "save_interval = np.min([number_of_episodes, save_interval])\n",
    "\n",
    "avg_interval = np.min([number_of_episodes, save_interval])"
   ]
  },
  {
   "cell_type": "code",
   "execution_count": 9,
   "metadata": {},
   "outputs": [],
   "source": [
    "#from collections import deque\n",
    "\n",
    "print_every=10\n",
    "moving_avg=100\n",
    "# KAE this is useful previously to provide a 'last moving_avg' sample for the moving average\n",
    "nscores_deque = deque(maxlen=moving_avg)\n",
    "nbest_mean = -100\n",
    "# KAE 3/19/2022: 1st time through we got learning score >36 but \n",
    "#  reloading gave us a mean of 34, so allow for 10% over\n",
    "MAX_SCORE = 0.55\n",
    "# KAE 3/19/2022: print the requirement score as well\n",
    "REQ_SCORE = 0.5"
   ]
  },
  {
   "cell_type": "markdown",
   "metadata": {},
   "source": [
    "#### 4.1.3 Finally set the actual episode loop"
   ]
  },
  {
   "cell_type": "code",
   "execution_count": 10,
   "metadata": {},
   "outputs": [
    {
     "name": "stdout",
     "output_type": "stream",
     "text": [
      "Episode 0 with 15 iterations(emx:14, totmx:14)\tAverage Score: 0.0000, minact: -0.0365, maxact: 0.0499\n",
      "Episode 0, Average Score: 0.0000\n",
      "\n",
      "Mean score: 0.0000\t, old best: -100.0000, max_episode: 14\n",
      "Episode 10 with 167 iterations(emx:13, totmx:19)\tAverage Score: 0.0000, minact: -0.0343, maxact: 0.0297\n",
      "Episode 10, Average Score: 0.0000\n",
      "Episode 20 with 339 iterations(emx:20, totmx:20)\tAverage Score: 0.0000, minact: -0.0222, maxact: 0.0109\n",
      "Episode 20, Average Score: 0.0000\n",
      "Episode 30 with 571 iterations(emx:19, totmx:37)\tAverage Score: 0.0000, minact: -0.1043, maxact: 0.0904\n",
      "Episode 30, Average Score: 0.0000\n",
      "Episode 31 with 648 iterations(emx:76, totmx:76)\tAverage Score: 0.0063, minact: -0.1873, maxact: 0.1811\n",
      "Mean score: 0.0063\t, old best: 0.0000, max_episode: 76\n",
      "Episode 40 with 789 iterations(emx:14, totmx:76)\tAverage Score: 0.0049, minact: -0.3076, maxact: 0.3136\n",
      "Episode 40, Average Score: 0.0049\n",
      "Episode 41 with 808 iterations(emx:18, totmx:76)\tAverage Score: 0.0069, minact: -0.3787, maxact: 0.3839\n",
      "Mean score: 0.0069\t, old best: 0.0063, max_episode: 76\n",
      "Episode 44 with 856 iterations(emx:18, totmx:76)\tAverage Score: 0.0087, minact: -0.5940, maxact: 0.6010\n",
      "Mean score: 0.0087\t, old best: 0.0069, max_episode: 76\n",
      "Episode 50 with 941 iterations(emx:13, totmx:76)\tAverage Score: 0.0076, minact: -0.6334, maxact: 0.6466\n",
      "Episode 50, Average Score: 0.0076\n",
      "Episode 60 with 1083 iterations(emx:13, totmx:76)\tAverage Score: 0.0064, minact: -0.8153, maxact: 0.8258\n",
      "Episode 60, Average Score: 0.0064\n",
      "Episode 70 with 1225 iterations(emx:13, totmx:76)\tAverage Score: 0.0055, minact: -0.8600, maxact: 0.8676\n",
      "Episode 70, Average Score: 0.0055\n",
      "Episode 80 with 1367 iterations(emx:13, totmx:76)\tAverage Score: 0.0048, minact: -0.9582, maxact: 0.9626\n",
      "Episode 80, Average Score: 0.0048\n",
      "Episode 90 with 1509 iterations(emx:13, totmx:76)\tAverage Score: 0.0043, minact: -0.9803, maxact: 0.9824\n",
      "Episode 90, Average Score: 0.0043\n",
      "Episode 100 with 1651 iterations(emx:13, totmx:76)\tAverage Score: 0.0039, minact: -0.9898, maxact: 0.9908\n",
      "Episode 100, Average Score: 0.0039\n",
      "Episode 110 with 1793 iterations(emx:13, totmx:76)\tAverage Score: 0.0035, minact: -0.9894, maxact: 0.9884\n",
      "Episode 110, Average Score: 0.0035\n",
      "Episode 120 with 1935 iterations(emx:13, totmx:76)\tAverage Score: 0.0032, minact: -0.9917, maxact: 0.9911\n",
      "Episode 120, Average Score: 0.0032\n",
      "Episode 130 with 2077 iterations(emx:13, totmx:76)\tAverage Score: 0.0030, minact: -0.9940, maxact: 0.9938\n",
      "Episode 130, Average Score: 0.0030\n",
      "Episode 140 with 2219 iterations(emx:13, totmx:76)\tAverage Score: 0.0028, minact: -0.9958, maxact: 0.9968\n",
      "Episode 140, Average Score: 0.0028\n",
      "Episode 149 with 2347 iterations(emx:13, totmx:76)\tAverage Score: 0.0026, minact: -0.9945, maxact: 0.9960"
     ]
    }
   ],
   "source": [
    "# use keep_awake to keep workspace from disconnecting\n",
    "tstart = datetime.datetime.now()\n",
    "## KAE 4/12/22: needed?\n",
    "t = 0\n",
    "max_episode_t = -1\n",
    "nscores = []\n",
    "nmean_scores = []\n",
    "# KAE 4/12/2022: don't think we need for our application either agent0 or 1\n",
    "scores =  []\n",
    "#for episode in keep_awake(range(0, number_of_episodes, parallel_envs)):\n",
    "for episode in keep_awake(range(0, number_of_episodes)):\n",
    "\n",
    "    # KAE 4/11/2022: actual envrionment from above random setting to initalize the env_info\n",
    "    #  The states from the env_info\n",
    "    #  and the initialized scores\n",
    "    env_info = env.reset(train_mode=True)[brain_name]     # reset the environment    \n",
    "    # KAE 4/11/2022: get the initial state for each agent....\n",
    "    states = env_info.vector_observations                  # get the current state (for each agent)\n",
    "    score = np.zeros(num_agents)                          # initialize the score (for each agent)\n",
    "\n",
    "\n",
    "#    maddpg.reset() #\n",
    "    \n",
    "    #for calculating rewards for this particular episode - addition of all time steps\n",
    "    # save info or not\n",
    "    save_info = ((episode) % save_interval < 1 or episode==number_of_episodes-1)\n",
    "    tmax = 0\n",
    "    \n",
    "    episode_t = 0\n",
    "# temp values for monitoring action values....\n",
    "    min_action = 1.0e38\n",
    "    max_action = -1.0e38\n",
    "#    for episode_t in range(episode_length):\n",
    "    while True:\n",
    "        t += 1\n",
    "        # explore = only explore for a certain number of episodes\n",
    "        # action input needs to be transposed\n",
    "# KAE 4/12/22: get all actions (list) for each agent(2) in maddpg\n",
    "        actions = maddpg.act(states, add_noise=False)\n",
    "#        print('action, t',actions, t, episode)\n",
    "        min_actionc = np.min(actions)\n",
    "        max_actionc = np.max(actions)\n",
    "        min_action = np.min([min_action, min_actionc])\n",
    "        max_action = np.max([max_action, max_actionc])\n",
    "\n",
    "#        noise *= noise_reduction\n",
    "# KAE 4/12/22: maddpg.act is already clipped, so not needed here....\n",
    "        \n",
    "        # step forward one frame\n",
    "# KAE 4/12/22: previous env was custom made, here we are using the unity env which has a standard output\n",
    "        env_info = env.step(actions)[brain_name]\n",
    "        next_states = np.array(env_info.vector_observations)\n",
    "        rewards = np.array(env_info.rewards)\n",
    "        dones = np.array(env_info.local_done)\n",
    "        maddpg.step(states, actions, rewards, next_states, dones)\n",
    "        \n",
    "        score += rewards\n",
    "        states = next_states\n",
    "        \n",
    "#        maddpg.update_noise()\n",
    "        \n",
    "        if np.any(dones) or  episode_t > max_episode_length:\n",
    "            break \n",
    "        episode_t += 1\n",
    "\n",
    "\n",
    "    max_episode_t = np.max([max_episode_t, episode_t])\n",
    "    # update once after every episode_per_update\n",
    "    # KAE 4/12/22: this section is, for the most part, superceeded by the agent.step\n",
    "    #   function -> agent.learn for each agent\n",
    "    scores.append(np.max(score))\n",
    "\n",
    "    if episode % avg_interval == 0 or episode == number_of_episodes-1:\n",
    "        avg_rewards = np.mean(scores)\n",
    "\n",
    "    nscores_deque.append(scores)\n",
    "    nscores.append(scores)\n",
    "    mean_score = np.mean(nscores_deque)\n",
    "    # this gives us the mean score 100 sample mean score for plotting\n",
    "    nmean_scores.append(mean_score)\n",
    "    # THis line remains in place, from the DDPG previous example....\n",
    "#    print('\\rEpisode {}\\tAverage Score: {:.4f}'.format(episode, mean_score), end=\"\")\n",
    "    print('\\rEpisode {} with {} iterations(emx:{}, totmx:{})\\tAverage Score: {:.4f}, minact: {:.4f}, maxact: {:.4f}'.format(\n",
    "        episode, t, episode_t, max_episode_t, mean_score, min_action, max_action), end=\"\")\n",
    "    # only save the current score if it is better than previous save....\n",
    "    # document the ongoing process....\n",
    "    if episode % print_every == 0:\n",
    "        print('\\nEpisode {}, Average Score: {:.4f}'.format(episode, mean_score))\n",
    "    if mean_score > REQ_SCORE:\n",
    "        print('\\nRequirement met on Episode {}, Requirement Average Score: {:.4f}'.format(episode, mean_score))\n",
    "    if mean_score > MAX_SCORE:\n",
    "        print('\\nFinal Episode {}, Final Average Score: {:.4f}'.format(episode, mean_score))\n",
    "        break\n",
    "        \n",
    "    #saving model\n",
    "    save_dict_list =[]\n",
    "    if save_info or mean_score > nbest_mean:\n",
    "#        if save_info:\n",
    "#            print('\\nNormal save conditions...')\n",
    "        if mean_score > nbest_mean:\n",
    "#        else:\n",
    "            print('\\nMean score: {:.4f}\\t, old best: {:.4f}, max_episode: {}'.format(mean_score, nbest_mean, max_episode_t))\n",
    "            nbest_mean = mean_score\n",
    "        for i in range(num_agents):\n",
    "            save_dict = {'actor_params' : maddpg.maddpg_agent[i].actor_local.state_dict(),\n",
    "                         'actor_optim_params': maddpg.maddpg_agent[i].actor_optimizer.state_dict(),\n",
    "                         'critic_params' : maddpg.maddpg_agent[i].critic_local.state_dict(),\n",
    "                         'critic_optim_params' : maddpg.maddpg_agent[i].critic_optimizer.state_dict()}\n",
    "            save_dict_list.append(save_dict)\n",
    "\n",
    "#            torch.save(save_dict_list, 'checkpoint_episode-{}.pt'.format(episode))\n",
    "            torch.save(save_dict_list, 'checkpoint_episode-interim.pt')\n",
    "            \n",
    "torch.save(save_dict_list, 'checkpoint_episode-final.pt')\n",
    "\n",
    "# moved this up here as for some reason our solution stopped so lost the times\n",
    "tend = datetime.datetime.now()\n"
   ]
  },
  {
   "cell_type": "code",
   "execution_count": 11,
   "metadata": {},
   "outputs": [
    {
     "name": "stdout",
     "output_type": "stream",
     "text": [
      "DDPG learning took  0:00:17.945492 or  0.11963661333333335  seconds per episode\n"
     ]
    }
   ],
   "source": [
    "dtime = tend - tstart\n",
    "dt_e = float(dtime.total_seconds()) / float(number_of_episodes)\n",
    "print('DDPG learning took ',dtime,'or ',dt_e,' seconds per episode')"
   ]
  },
  {
   "cell_type": "code",
   "execution_count": 12,
   "metadata": {},
   "outputs": [],
   "source": [
    "import matplotlib.pyplot as plt\n",
    "%matplotlib inline\n"
   ]
  },
  {
   "cell_type": "code",
   "execution_count": 13,
   "metadata": {},
   "outputs": [
    {
     "data": {
      "image/png": "[encoded data removed]",
      "text/plain": [
       "<matplotlib.figure.Figure at 0x7f69b8043470>"
      ]
     },
     "metadata": {
      "needs_background": "light"
     },
     "output_type": "display_data"
    }
   ],
   "source": [
    "fig = plt.figure()\n",
    "ax = fig.add_subplot(111)\n",
    "plt.plot(np.arange(1, len(scores)+1), scores,label='scores')\n",
    "plt.plot(np.arange(1, len(nmean_scores)+1), nmean_scores,'r-',\n",
    "         label='mean scores')\n",
    "plt.grid()\n",
    "plt.ylabel('Score')\n",
    "plt.xlabel('Episode #')\n",
    "plt.show()"
   ]
  },
  {
   "cell_type": "markdown",
   "metadata": {},
   "source": [
    "# NOTE: next section needs to be updated for the saved items above instead of P2 saved items...."
   ]
  },
  {
   "cell_type": "code",
   "execution_count": 14,
   "metadata": {},
   "outputs": [],
   "source": [
    "## KAE 3/19/2022: here we reload the saved trained models (both actor and critic)\n",
    "##   for a \"replay\" to demonstrate that our trained solution gives us \n",
    "##   good solutions (still)\n",
    "#agent.actor_local.load_state_dict(torch.load('checkpoint_actor.pth'))\n",
    "#agent.critic_local.load_state_dict(torch.load('checkpoint_critic.pth'))\n",
    "#\n",
    "## do only one \"episode\"\n",
    "#score = np.zeros(num_agents)\n",
    "#env_info = env.reset(train_mode=False)[brain_name]     # reset the environment    \n",
    "#states = env_info.vector_observations\n",
    "#agent.reset()\n",
    "## keep track of the number of turns so can get a running count\n",
    "#icnt=0\n",
    "#while True:\n",
    "#    actions = agent.act(states, add_noise=False)\n",
    "#    env_info = env.step(actions)[brain_name]           # send all actions to the environment\n",
    "#    next_states = env_info.vector_observations         # get next state (for each agent)\n",
    "#    rewards = env_info.rewards                         # get reward (for each agent)\n",
    "#    dones = env_info.local_done                        # see if episode finished\n",
    "#\n",
    "#    states = next_states\n",
    "#    score += rewards                                  # update the score (for each agent)\n",
    "#    icnt += 1\n",
    "#    print('\\rTurn {}\\tRunning Mean Score: {:.2f}'.format(icnt, np.mean(score)), end=\"\")\n",
    "#    if np.any(dones):\n",
    "#        break \n",
    "#print('\\ncurrent test scores:',score)\n",
    "#print('\\ncurrent mean score:',np.mean(score))"
   ]
  },
  {
   "cell_type": "markdown",
   "metadata": {},
   "source": [
    "# NOTE: we don't uncomment the line below until things are working...."
   ]
  },
  {
   "cell_type": "code",
   "execution_count": 15,
   "metadata": {},
   "outputs": [],
   "source": [
    "#env.close()"
   ]
  }
 ],
 "metadata": {
  "kernelspec": {
   "display_name": "Python 3",
   "language": "python",
   "name": "python3"
  },
  "language_info": {
   "codemirror_mode": {
    "name": "ipython",
    "version": 3
   },
   "file_extension": ".py",
   "mimetype": "text/x-python",
   "name": "python",
   "nbconvert_exporter": "python",
   "pygments_lexer": "ipython3",
   "version": "3.6.3"
  }
 },
 "nbformat": 4,
 "nbformat_minor": 2
}
